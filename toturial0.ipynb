{
 "cells": [
  {
   "cell_type": "markdown",
   "id": "6c482886-81ad-4d5a-a474-c6d335c5d943",
   "metadata": {},
   "source": [
    "# 从零实现一个大模型"
   ]
  },
  {
   "cell_type": "markdown",
   "id": "52615bae-1c40-486a-aed6-d9024462ab0b",
   "metadata": {},
   "source": [
    "## 目录"
   ]
  },
  {
   "cell_type": "markdown",
   "id": "edf1e002-20ce-4a69-be23-d36c39280709",
   "metadata": {},
   "source": [
    "### 1. 文本处理\n",
    "### 2. 注意力机制\n",
    "### 3. 开发一个Transform架构的大模型\n",
    "### 4. 使用无标记数据预训练模型\n",
    "### 5. 分类微调"
   ]
  },
  {
   "cell_type": "markdown",
   "id": "5a1c830b-6ca2-4c96-b84f-654528c18930",
   "metadata": {},
   "source": [
    "## 参考资料"
   ]
  },
  {
   "cell_type": "markdown",
   "id": "05f63f36-22c4-4713-923c-827094ece6a7",
   "metadata": {},
   "source": [
    "1. [Build a Large Language Model (From Scratch)](https://github.com/rasbt/LLMs-from-scratch)"
   ]
  }
 ],
 "metadata": {
  "kernelspec": {
   "display_name": "Python 3 (ipykernel)",
   "language": "python",
   "name": "python3"
  },
  "language_info": {
   "codemirror_mode": {
    "name": "ipython",
    "version": 3
   },
   "file_extension": ".py",
   "mimetype": "text/x-python",
   "name": "python",
   "nbconvert_exporter": "python",
   "pygments_lexer": "ipython3",
   "version": "3.10.18"
  }
 },
 "nbformat": 4,
 "nbformat_minor": 5
}
